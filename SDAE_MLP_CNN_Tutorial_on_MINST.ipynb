{
  "nbformat": 4,
  "nbformat_minor": 0,
  "metadata": {
    "colab": {
      "name": "SDAE - MLP/CNN Tutorial on MINST",
      "version": "0.3.2",
      "provenance": [],
      "collapsed_sections": [],
      "include_colab_link": true
    },
    "kernelspec": {
      "name": "python3",
      "display_name": "Python 3"
    },
    "accelerator": "GPU"
  },
  "cells": [
    {
      "cell_type": "markdown",
      "metadata": {
        "id": "view-in-github",
        "colab_type": "text"
      },
      "source": [
        "<a href=\"https://colab.research.google.com/github/aldolipani/SDAE19/blob/master/SDAE_MLP_CNN_Tutorial_on_MINST.ipynb\" target=\"_parent\"><img src=\"https://colab.research.google.com/assets/colab-badge.svg\" alt=\"Open In Colab\"/></a>"
      ]
    },
    {
      "cell_type": "markdown",
      "metadata": {
        "id": "EwEv9yKwGqBS",
        "colab_type": "text"
      },
      "source": [
        "##Install PyTorch"
      ]
    },
    {
      "cell_type": "code",
      "metadata": {
        "id": "PtKvmZx-WmUu",
        "colab_type": "code",
        "cellView": "both",
        "colab": {}
      },
      "source": [
        "!pip install torch\n",
        "!pip install torchvision"
      ],
      "execution_count": 0,
      "outputs": []
    },
    {
      "cell_type": "markdown",
      "metadata": {
        "id": "Dvc26FYKGxVh",
        "colab_type": "text"
      },
      "source": [
        "## Import Dependencies"
      ]
    },
    {
      "cell_type": "code",
      "metadata": {
        "id": "bGU6NwlsXFSt",
        "colab_type": "code",
        "cellView": "both",
        "colab": {}
      },
      "source": [
        "import torch\n",
        "import torch.nn as nn\n",
        "import torch.nn.functional as F\n",
        "import torchvision\n",
        "import torchvision.datasets as datasets\n",
        "import torchvision.transforms as transforms\n",
        "from tqdm import tqdm_notebook\n",
        "from torch.autograd import Variable\n",
        "import matplotlib.pyplot as plt\n",
        "import numpy as np"
      ],
      "execution_count": 0,
      "outputs": []
    },
    {
      "cell_type": "markdown",
      "metadata": {
        "id": "GaPiEOtaG1fR",
        "colab_type": "text"
      },
      "source": [
        "## Download MNIST Dataset"
      ]
    },
    {
      "cell_type": "code",
      "metadata": {
        "id": "Bi1ntv7uG7dI",
        "colab_type": "code",
        "colab": {}
      },
      "source": [
        "train_set = datasets.MNIST(root = './data', train = True, transform = transforms.ToTensor(), download = True)\n",
        "test_set  = datasets.MNIST(root = './data', train = False, transform = transforms.ToTensor())\n",
        "\n",
        "print()\n",
        "print(\"trainset:\\n\", train_set)\n",
        "print(\"testset:\\n\", test_set)\n",
        "\n",
        "batch_size = 4 \n",
        "train_loader = torch.utils.data.DataLoader(train_set, batch_size=batch_size, shuffle=True, num_workers=2)\n",
        "test_loader =  torch.utils.data.DataLoader(test_set, batch_size=batch_size, shuffle=False, num_workers=2)"
      ],
      "execution_count": 0,
      "outputs": []
    },
    {
      "cell_type": "markdown",
      "metadata": {
        "id": "gA55jVRmHN-o",
        "colab_type": "text"
      },
      "source": [
        "## Analyse MNIST Dataset\n",
        "\n",
        "Let's start by visualising the dataset:"
      ]
    },
    {
      "cell_type": "code",
      "metadata": {
        "id": "iPDJes7rHUi6",
        "colab_type": "code",
        "colab": {}
      },
      "source": [
        "# functions to show an image\n",
        "def imshow(img):\n",
        "    npimg = img.numpy()\n",
        "    plt.imshow(np.transpose(npimg, (1, 2, 0)))\n",
        "    plt.show()\n",
        "\n",
        "\n",
        "# get some random training images\n",
        "dataiter = iter(train_loader)\n",
        "images, labels = dataiter.next()\n",
        "\n",
        "# show images\n",
        "print(\"Input values (X):\")\n",
        "imshow(torchvision.utils.make_grid(images))\n",
        "# print labels\n",
        "print(\"Labels:\")\n",
        "print(' '.join('%9s' % str(labels[j].item()) for j in range(4)))"
      ],
      "execution_count": 0,
      "outputs": []
    },
    {
      "cell_type": "markdown",
      "metadata": {
        "id": "ysBI4UGjIvhz",
        "colab_type": "text"
      },
      "source": [
        "Let's now print some statistics about the dataset"
      ]
    },
    {
      "cell_type": "code",
      "metadata": {
        "id": "hNYUqq-TIsws",
        "colab_type": "code",
        "colab": {}
      },
      "source": [
        "print(\"Shape of the input: \", images.shape)\n",
        "print(\"Shape of the output:\", labels.shape)"
      ],
      "execution_count": 0,
      "outputs": []
    },
    {
      "cell_type": "markdown",
      "metadata": {
        "id": "s998vCqLNL9d",
        "colab_type": "text"
      },
      "source": [
        "# Hyperparameters based on the Dataset"
      ]
    },
    {
      "cell_type": "code",
      "metadata": {
        "id": "_bNfVLRUYqZA",
        "colab_type": "code",
        "cellView": "both",
        "colab": {}
      },
      "source": [
        "input_size = 784  # img_size = (28,28) ---> 28*28=784 in total\n",
        "num_classes = 10  # number of output classes discrete range [0,9]"
      ],
      "execution_count": 0,
      "outputs": []
    },
    {
      "cell_type": "markdown",
      "metadata": {
        "id": "_J_x6nRcNm7W",
        "colab_type": "text"
      },
      "source": [
        "# MLP in Pytorch\n",
        "\n",
        "Let's first define the model:"
      ]
    },
    {
      "cell_type": "code",
      "metadata": {
        "id": "X-Oxu1eENmIp",
        "colab_type": "code",
        "colab": {}
      },
      "source": [
        "class MLP(nn.Module):\n",
        "  def __init__(self, input_size, hidden_sizes, output_size):\n",
        "    super(MLP, self).__init__()\n",
        "    self.layers = nn.ModuleList()\n",
        "    next_hidden_size = input_size\n",
        "    for hidden_size in hidden_sizes:\n",
        "      self.layers.append(nn.Linear(next_hidden_size, hidden_size))\n",
        "      next_hidden_size = hidden_size\n",
        "    self.output = nn.Linear(next_hidden_size, output_size)\n",
        "\n",
        "  def forward(self, x):\n",
        "    out = x\n",
        "    for layer in self.layers:\n",
        "        out = layer(out)\n",
        "        out = F.relu(out)\n",
        "    out = self.output(out)\n",
        "    return out"
      ],
      "execution_count": 0,
      "outputs": []
    },
    {
      "cell_type": "markdown",
      "metadata": {
        "id": "TjbG4rAZQR0l",
        "colab_type": "text"
      },
      "source": [
        "Then, we instantiate the model:"
      ]
    },
    {
      "cell_type": "code",
      "metadata": {
        "id": "lCsBCXMwbpH5",
        "colab_type": "code",
        "colab": {}
      },
      "source": [
        "model = MLP(input_size, [400, 400, 10], num_classes)\n",
        "\n",
        "device = torch.device('cuda' if torch.cuda.is_available() else 'cpu')\n",
        "model.to(device)"
      ],
      "execution_count": 0,
      "outputs": []
    },
    {
      "cell_type": "markdown",
      "metadata": {
        "id": "RqXcG0s0QepH",
        "colab_type": "text"
      },
      "source": [
        "# Optimizer"
      ]
    },
    {
      "cell_type": "code",
      "metadata": {
        "id": "ePLIwvAFj2zH",
        "colab_type": "code",
        "colab": {}
      },
      "source": [
        "optimizer = torch.optim.SGD(model.parameters(), lr=1e-3, momentum=0.99)\n",
        "#optimizer = torch.optim.Adam(model.parameters(), lr=1e-3)"
      ],
      "execution_count": 0,
      "outputs": []
    },
    {
      "cell_type": "markdown",
      "metadata": {
        "id": "m13RyibjRVkS",
        "colab_type": "text"
      },
      "source": [
        "# Training"
      ]
    },
    {
      "cell_type": "code",
      "metadata": {
        "id": "u75Xa5VckuTH",
        "colab_type": "code",
        "colab": {}
      },
      "source": [
        "num_epochs = 3 # how many times you want to train on the dataset\n",
        "\n",
        "criterium = nn.CrossEntropyLoss() # loss function\n",
        "\n",
        "batch_size = 50\n",
        "train_loader = torch.utils.data.DataLoader(train_set, batch_size=batch_size, shuffle=True, num_workers=2)\n",
        "test_loader =  torch.utils.data.DataLoader(test_set, batch_size=batch_size, shuffle=False, num_workers=2)\n",
        "\n",
        "model.train() # set the model to training mode\n",
        "\n",
        "running_loss = 0\n",
        "training_loss = []\n",
        "#testing_loss = []\n",
        "for epoch in range(num_epochs):\n",
        "  for i, (images, labels) in enumerate(train_loader):\n",
        "    xs = images.view(-1, input_size).to(device)\n",
        "    ys = labels.to(device)\n",
        "    \n",
        "    optimizer.zero_grad() # reset the gradients\n",
        "    pred_ys = model(xs) # generate the predictions\n",
        "    loss = criterium(pred_ys, ys) # compute the loss\n",
        "    loss.backward() # backpropagation\n",
        "    optimizer.step() # optmizes here\n",
        "    \n",
        "    running_loss += loss.item()\n",
        "    if (i+1) % 100 == 0:\n",
        "      running_loss /= 100\n",
        "      training_loss.append(running_loss)\n",
        "      print('Epoch [%d/%d], Step [%d/%d], Loss: %.4f'%(epoch+1, num_epochs, i+1, len(train_set)//batch_size, running_loss))\n",
        "      running_loss = 0\n",
        "      #testing_loss.append(get_test_loss(model))"
      ],
      "execution_count": 0,
      "outputs": []
    },
    {
      "cell_type": "markdown",
      "metadata": {
        "id": "z_Y4Gk7-YZas",
        "colab_type": "text"
      },
      "source": [
        "# Analyse Losses"
      ]
    },
    {
      "cell_type": "code",
      "metadata": {
        "id": "5V31BiXPYcr2",
        "colab_type": "code",
        "colab": {}
      },
      "source": [
        "plt.plot(training_loss)\n",
        "#if testing_loss:\n",
        "#  plt.plot(testing_loss)\n",
        "plt.show()"
      ],
      "execution_count": 0,
      "outputs": []
    },
    {
      "cell_type": "markdown",
      "metadata": {
        "id": "6SE-t7G7dZic",
        "colab_type": "text"
      },
      "source": [
        "# Analyse the loss on the Test Set"
      ]
    },
    {
      "cell_type": "code",
      "metadata": {
        "id": "fu9zv4wXaUy6",
        "colab_type": "code",
        "colab": {}
      },
      "source": [
        "def get_test_loss(model):\n",
        "  model.eval()\n",
        "  \n",
        "  running_loss = 0\n",
        "  for i, (images, labels) in enumerate(test_loader):\n",
        "    xs = images.view(-1, input_size).to(device)\n",
        "    ys = labels\n",
        "    \n",
        "    pred_ys = model(xs)\n",
        "    loss = criterium(pred_ys, ys)\n",
        "    running_loss += loss.item()\n",
        "\n",
        "  model.train()\n",
        "  return running_loss/len(test_data)"
      ],
      "execution_count": 0,
      "outputs": []
    },
    {
      "cell_type": "markdown",
      "metadata": {
        "id": "m1pn6Ek2dkNG",
        "colab_type": "text"
      },
      "source": [
        "#Evaluating the Classfier"
      ]
    },
    {
      "cell_type": "code",
      "metadata": {
        "id": "DTPvMW5jHB9X",
        "colab_type": "code",
        "colab": {}
      },
      "source": [
        "model.eval()\n",
        "\n",
        "def accuracy(data_loader):\n",
        "  correct = 0.0\n",
        "  total = 0.0\n",
        "  with torch.no_grad():\n",
        "    for images, labels in tqdm_notebook(data_loader):\n",
        "      xs = images.view(-1, input_size).to(device)\n",
        "      ys = labels\n",
        "\n",
        "      pred_ys = model(xs).detach().cpu()\n",
        "      _, pred_ys = torch.max(pred_ys, 1)\n",
        "      correct += (pred_ys == ys).sum().numpy()\n",
        "      total += labels.size(0)\n",
        "      \n",
        "  return correct/total\n",
        "\n",
        "train_accuracy = accuracy(train_loader)\n",
        "print('Train accuracy: {:.3f}'.format(train_accuracy))\n",
        "\n",
        "test_accuracy = accuracy(test_loader)\n",
        "print('Test accuracy: {:.3f}'.format(test_accuracy))"
      ],
      "execution_count": 0,
      "outputs": []
    },
    {
      "cell_type": "markdown",
      "metadata": {
        "id": "4W1OWsJPrf6Y",
        "colab_type": "text"
      },
      "source": [
        "#CNN"
      ]
    },
    {
      "cell_type": "code",
      "metadata": {
        "id": "5P6qQh-QJ9nX",
        "colab_type": "code",
        "colab": {}
      },
      "source": [
        "class CNN(nn.Module):\n",
        "  def __init__(self, conv_hidden_sizes:list, linear_hidden_sizes, output_size):\n",
        "    super(CNN, self).__init__()\n",
        "    self.conv_layers = nn.ModuleList()\n",
        "    next_conv_size = 1\n",
        "    for conv_hidden_size in conv_hidden_sizes:\n",
        "      conv = nn.Conv2d(next_conv_size, conv_hidden_size, kernel_size=5)\n",
        "      self.conv_layers.append(conv)\n",
        "      next_conv_size = conv_hidden_size\n",
        "    self.linear_layers = nn.ModuleList()\n",
        "    next_linear_size = 3*3*next_conv_size\n",
        "    for linear_hidden_size in linear_hidden_sizes:\n",
        "      linear = nn.Linear(next_linear_size, linear_hidden_size)\n",
        "      self.linear_layers.append(linear)\n",
        "      next_linear_size = linear_hidden_size\n",
        "    self.output = nn.Linear(linear_hidden_size, output_size)\n",
        "\n",
        "  def forward(self, x):\n",
        "    out = x\n",
        "    for i, layer in enumerate(self.conv_layers):\n",
        "      out = layer(out)\n",
        "      if i > 0:\n",
        "        out = F.max_pool2d(out, 2)\n",
        "      out = F.relu(out)    \n",
        "    out = out.view(-1,3*3*64)\n",
        "    for layer in self.linear_layers:\n",
        "      out = layer(out)\n",
        "      out = F.relu(out)\n",
        "    out = self.output(out)\n",
        "    return out\n",
        "\n",
        "model = CNN([32, 32, 64], [256], 10)\n",
        "\n",
        "model = model.to(device)\n",
        "\n",
        "model"
      ],
      "execution_count": 0,
      "outputs": []
    },
    {
      "cell_type": "code",
      "metadata": {
        "id": "vVeKNA_XrbL1",
        "colab_type": "code",
        "colab": {}
      },
      "source": [
        "optimizer = torch.optim.SGD(model.parameters(), lr=1e-3, momentum=0.99)\n",
        "#optimizer = torch.optim.Adam(model.parameters(), lr=1e-3)"
      ],
      "execution_count": 0,
      "outputs": []
    },
    {
      "cell_type": "code",
      "metadata": {
        "id": "ZrNyHKfXroZY",
        "colab_type": "code",
        "colab": {}
      },
      "source": [
        "num_epochs = 3 # how many times you want to train on the dataset\n",
        "\n",
        "criterium = nn.CrossEntropyLoss() # loss function\n",
        "\n",
        "batch_size = 50\n",
        "train_loader = torch.utils.data.DataLoader(train_set, batch_size=batch_size, shuffle=True, num_workers=2)\n",
        "test_loader =  torch.utils.data.DataLoader(test_set, batch_size=batch_size, shuffle=False, num_workers=2)\n",
        "\n",
        "model.train() # set the model to training mode\n",
        "\n",
        "running_loss = 0\n",
        "training_loss = []\n",
        "#testing_loss = []\n",
        "for epoch in range(num_epochs):\n",
        "  for i, (images, labels) in enumerate(train_loader):\n",
        "    xs = images.to(device)\n",
        "    ys = labels.to(device)\n",
        "    \n",
        "    optimizer.zero_grad() # reset the gradients\n",
        "    pred_ys = model(xs) # generate the predictions\n",
        "    loss = criterium(pred_ys, ys) # compute the loss\n",
        "    loss.backward() # backpropagation\n",
        "    optimizer.step() # optmizes here\n",
        "    \n",
        "    running_loss += loss.item()\n",
        "    if (i+1) % 100 == 0:\n",
        "      running_loss /= 100\n",
        "      training_loss.append(running_loss)\n",
        "      print('Epoch [%d/%d], Step [%d/%d], Loss: %.4f'%(epoch+1, num_epochs, i+1, len(train_set)//batch_size, running_loss))\n",
        "      running_loss = 0\n",
        "      #testing_loss.append(get_test_loss(model))"
      ],
      "execution_count": 0,
      "outputs": []
    },
    {
      "cell_type": "code",
      "metadata": {
        "id": "cBbM62cprqzA",
        "colab_type": "code",
        "colab": {}
      },
      "source": [
        "model.eval()\n",
        "\n",
        "def accuracy(data_loader):\n",
        "  correct = 0.0\n",
        "  total = 0.0\n",
        "  with torch.no_grad():\n",
        "    for images, labels in tqdm_notebook(data_loader):\n",
        "      xs = images.to(device)\n",
        "      ys = labels\n",
        "\n",
        "      pred_ys = model(xs).detach().cpu()\n",
        "      _, pred_ys = torch.max(pred_ys, 1)\n",
        "      correct += (pred_ys == ys).sum().numpy()\n",
        "      total += labels.size(0)\n",
        "      \n",
        "  return correct/total\n",
        "\n",
        "\n",
        "train_accuracy = accuracy(train_loader)\n",
        "print('Train accuracy: {:.3f}'.format(train_accuracy))\n",
        "\n",
        "test_accuracy = accuracy(test_loader)\n",
        "print('Test accuracy: {:.3f}'.format(test_accuracy))"
      ],
      "execution_count": 0,
      "outputs": []
    }
  ]
}